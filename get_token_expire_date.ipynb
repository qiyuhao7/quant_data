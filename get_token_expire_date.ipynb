{
 "cells": [
  {
   "cell_type": "code",
   "execution_count": 1,
   "id": "c1ce72a0-75ba-48a9-97db-077796d7c9c8",
   "metadata": {},
   "outputs": [],
   "source": [
    "import tushare as ts"
   ]
  },
  {
   "cell_type": "code",
   "execution_count": 11,
   "id": "daa71d4a-2176-435c-b3e3-51781e89a6ea",
   "metadata": {},
   "outputs": [
    {
     "name": "stdout",
     "output_type": "stream",
     "text": [
      "   user_id        到期时间     到期积分\n",
      "0   570140  2025-04-06  10000.0\n"
     ]
    }
   ],
   "source": [
    "pro = ts.pro_api('0d9223de9a848ebf6f2e268039b1762919bfbcb1826df44246220d4c')\n",
    "df = pro.user(token='0d9223de9a848ebf6f2e268039b1762919bfbcb1826df44246220d4c')\n",
    "print(df)"
   ]
  },
  {
   "cell_type": "code",
   "execution_count": null,
   "id": "ab192c81-3d3d-4891-a1be-a7704e19694b",
   "metadata": {},
   "outputs": [],
   "source": []
  }
 ],
 "metadata": {
  "kernelspec": {
   "display_name": "Python 3 (ipykernel)",
   "language": "python",
   "name": "python3"
  },
  "language_info": {
   "codemirror_mode": {
    "name": "ipython",
    "version": 3
   },
   "file_extension": ".py",
   "mimetype": "text/x-python",
   "name": "python",
   "nbconvert_exporter": "python",
   "pygments_lexer": "ipython3",
   "version": "3.10.13"
  }
 },
 "nbformat": 4,
 "nbformat_minor": 5
}
