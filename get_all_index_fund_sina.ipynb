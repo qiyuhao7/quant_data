{
 "cells": [
  {
   "cell_type": "code",
   "execution_count": 1,
   "metadata": {},
   "outputs": [],
   "source": [
    "import akshare as ak\n",
    "import pandas as pd\n",
    "import os\n",
    "import baostock as bs"
   ]
  },
  {
   "cell_type": "code",
   "execution_count": 2,
   "metadata": {},
   "outputs": [
    {
     "name": "stdout",
     "output_type": "stream",
     "text": [
      "login success!\n"
     ]
    },
    {
     "data": {
      "text/plain": [
       "<baostock.data.resultset.ResultData at 0x2adf4599ac0>"
      ]
     },
     "execution_count": 2,
     "metadata": {},
     "output_type": "execute_result"
    }
   ],
   "source": [
    "bs.login()"
   ]
  },
  {
   "cell_type": "code",
   "execution_count": 3,
   "metadata": {},
   "outputs": [],
   "source": [
    "fund_etf_category_sina_df = ak.fund_etf_category_sina(symbol=\"ETF基金\")"
   ]
  },
  {
   "cell_type": "code",
   "execution_count": null,
   "metadata": {},
   "outputs": [],
   "source": [
    "fund_etf_category_sina_df.to_csv('data/fund_etf_category_sina.csv')"
   ]
  },
  {
   "cell_type": "code",
   "execution_count": 5,
   "metadata": {},
   "outputs": [],
   "source": [
    "etf_sina_savepath = 'etf_sina'\n",
    "if not os.path.exists(etf_sina_savepath):\n",
    "    os.mkdir(etf_sina_savepath)"
   ]
  },
  {
   "cell_type": "code",
   "execution_count": 6,
   "metadata": {},
   "outputs": [],
   "source": [
    "etf_codes = fund_etf_category_sina_df['代码'].to_list()"
   ]
  },
  {
   "cell_type": "code",
   "execution_count": 54,
   "metadata": {},
   "outputs": [],
   "source": [
    "\n",
    "# for fund_code in etf_codes:\n",
    "#     try:\n",
    "#         df = ak.fund_etf_hist_sina(fund_code)\n",
    "#         df['pctChg'] = df['close'].pct_change().fillna(0)\n",
    "#         df['code'] = fund_code\n",
    "#         df = df[['date', 'code', 'open', 'high', 'low', 'close', 'volume', 'pctChg']]\n",
    "#         df.to_csv(f'{etf_sina_savepath}/{fund_code}.csv', index=False)\n",
    "#     except:\n",
    "#         print(fund_code)\n",
    "#         continue"
   ]
  },
  {
   "cell_type": "code",
   "execution_count": null,
   "metadata": {},
   "outputs": [],
   "source": [
    "def get_fund_etf_hist_sina(code):\n",
    "    try:\n",
    "        return pd.read_csv(f\"{etf_sina_savepath}/{code}.csv\")\n",
    "    except:\n",
    "        try:\n",
    "            df = ak.fund_etf_hist_sina(code)\n",
    "            df['pctChg'] = df['close'].pct_change().fillna(0)\n",
    "            df['code'] = code\n",
    "            df = df[['date', 'code', 'open', 'high', 'low', 'close', 'volume', 'pctChg']]\n",
    "            df.to_csv(f'{etf_sina_savepath}/{code}.csv', index=False)\n",
    "            return df\n",
    "        except:\n",
    "            print(f\"{code} not found\")"
   ]
  },
  {
   "cell_type": "code",
   "execution_count": null,
   "metadata": {},
   "outputs": [
    {
     "name": "stdout",
     "output_type": "stream",
     "text": [
      "sz159399\n",
      "sz159393\n",
      "sz159201\n",
      "sh589990\n",
      "sh589900\n",
      "sh589890\n",
      "sh589880\n",
      "sh589860\n",
      "sh589800\n",
      "sh589770\n",
      "sh589680\n",
      "sh589660\n",
      "sh589600\n",
      "sh589500\n",
      "sh589080\n",
      "sh589000\n",
      "sh588960\n",
      "sh588840\n",
      "sh588240\n",
      "sh520580\n",
      "sh513830\n"
     ]
    }
   ],
   "source": [
    "fund_etf_category_sina_returns = {}\n",
    "for code in etf_codes:\n",
    "    try:\n",
    "        fund_etf_category_sina_returns[code] = get_fund_etf_hist_sina(code)['pctChg']\n",
    "    except:\n",
    "        print(code)\n",
    "        continue"
   ]
  },
  {
   "cell_type": "code",
   "execution_count": 61,
   "metadata": {},
   "outputs": [],
   "source": [
    "returns_df = pd.DataFrame(fund_etf_category_sina_returns).dropna(axis=1, how='all')"
   ]
  },
  {
   "cell_type": "code",
   "execution_count": 62,
   "metadata": {},
   "outputs": [],
   "source": [
    "corr_matrix = returns_df.corr(method='pearson')"
   ]
  },
  {
   "cell_type": "code",
   "execution_count": 66,
   "metadata": {},
   "outputs": [],
   "source": [
    "threshold = 0.8  # 相似度阈值\n",
    "to_drop = set()\n",
    "\n",
    "for i in range(len(corr_matrix.columns)):\n",
    "    for j in range(i+1, len(corr_matrix.columns)):\n",
    "        if corr_matrix.iloc[i, j] > threshold:\n",
    "            # 保留规模较大的基金\n",
    "            fund_i = corr_matrix.columns[i]\n",
    "            fund_j = corr_matrix.columns[j]\n",
    "            if fund_etf_category_sina_df.loc[fund_etf_category_sina_df['代码'] == fund_i, '成交额'].values[0] \\\n",
    "                > fund_etf_category_sina_df.loc[fund_etf_category_sina_df['代码'] == fund_j, '成交额'].values[0]:\n",
    "                to_drop.add(fund_j)\n",
    "            else:\n",
    "                to_drop.add(fund_i)\n"
   ]
  },
  {
   "cell_type": "code",
   "execution_count": 67,
   "metadata": {},
   "outputs": [
    {
     "data": {
      "text/plain": [
       "437"
      ]
     },
     "execution_count": 67,
     "metadata": {},
     "output_type": "execute_result"
    }
   ],
   "source": [
    "len(to_drop)"
   ]
  },
  {
   "cell_type": "code",
   "execution_count": 70,
   "metadata": {},
   "outputs": [],
   "source": [
    "filtered_codes = [code for code in returns_df.columns if code not in to_drop]"
   ]
  },
  {
   "cell_type": "code",
   "execution_count": 71,
   "metadata": {},
   "outputs": [
    {
     "data": {
      "text/plain": [
       "639"
      ]
     },
     "execution_count": 71,
     "metadata": {},
     "output_type": "execute_result"
    }
   ],
   "source": [
    "len(filtered_codes)"
   ]
  },
  {
   "cell_type": "code",
   "execution_count": null,
   "metadata": {},
   "outputs": [
    {
     "name": "stdout",
     "output_type": "stream",
     "text": [
      "            代码        名称          成交额\n",
      "979   sh511990   华宝添益ETF  11872072987\n",
      "886   sh513330  恒生互联网ETF   9920216755\n",
      "1017  sh511090  30年国债ETF   9494815243\n",
      "988   sh511880   银华日利ETF   8736808019\n",
      "1006  sh511360     短融ETF   8064568159\n",
      "...        ...       ...          ...\n",
      "851   sh513970   恒生消费ETF     45487028\n",
      "211   sz159707     地产ETF     45147727\n",
      "1003  sh511580  国债政金债ETF     44207094\n",
      "596   sh561160    锂电池ETF     44031113\n",
      "466   sh588380   双创50ETF     43885184\n",
      "\n",
      "[300 rows x 3 columns]\n"
     ]
    }
   ],
   "source": [
    "final_df = fund_etf_category_sina_df[fund_etf_category_sina_df['代码'].isin(filtered_codes)]\n",
    "final_df = final_df.sort_values(by='成交额', ascending=False).head(300)  # 取前300名\n"
   ]
  },
  {
   "cell_type": "code",
   "execution_count": null,
   "metadata": {},
   "outputs": [],
   "source": [
    "final_df[['代码', '名称']].to_csv('data/fund_etf_top300_sina.csv', index=False)"
   ]
  },
  {
   "cell_type": "code",
   "execution_count": null,
   "metadata": {},
   "outputs": [],
   "source": []
  }
 ],
 "metadata": {
  "kernelspec": {
   "display_name": "Python 3",
   "language": "python",
   "name": "python3"
  },
  "language_info": {
   "codemirror_mode": {
    "name": "ipython",
    "version": 3
   },
   "file_extension": ".py",
   "mimetype": "text/x-python",
   "name": "python",
   "nbconvert_exporter": "python",
   "pygments_lexer": "ipython3",
   "version": "3.12.9"
  }
 },
 "nbformat": 4,
 "nbformat_minor": 2
}
